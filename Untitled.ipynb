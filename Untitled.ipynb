{
 "cells": [
  {
   "cell_type": "code",
   "execution_count": 2,
   "id": "4a15e962-4c37-4a7f-b9e4-fd734189a984",
   "metadata": {},
   "outputs": [],
   "source": [
    "\n",
    "import os\n",
    "import time\n",
    "\n",
    "from datetime import datetime\n",
    "from subprocess import Popen\n"
   ]
  },
  {
   "cell_type": "code",
   "execution_count": 3,
   "id": "5f5a9737-5f96-4e55-bd43-624f71f210f1",
   "metadata": {},
   "outputs": [
    {
     "name": "stdout",
     "output_type": "stream",
     "text": [
      "\\\\.\\pipe\\\\videopipe0\n",
      "D:\\video_test\\video1.mp4\n"
     ]
    }
   ],
   "source": [
    "pipe = r'\\\\.\\pipe\\\\videopipe0'\n",
    "video_file_path = r'D:\\video_test\\video1.mp4'\n",
    "print(pipe)\n",
    "print(video_file_path)"
   ]
  },
  {
   "cell_type": "code",
   "execution_count": 4,
   "id": "056c626d-3660-4cfa-b379-ccd541650156",
   "metadata": {},
   "outputs": [],
   "source": [
    "ffmpeg_processes = []\n",
    "ffmpeg_processes.append(Popen(r'ffmpeg -y -f rawvideo -vcodec rawvideo -s 500x500 -pix_fmt gray -r 60 -i {} -c:v h264_nvenc -profile:v high -preset slow -an {}'.format(pipe, video_file_path), shell=True))"
   ]
  },
  {
   "cell_type": "code",
   "execution_count": 5,
   "id": "ed5bbd1e",
   "metadata": {},
   "outputs": [],
   "source": [
    "for ffmpeg_process in ffmpeg_processes:\n",
    "    ffmpeg_process.terminate()"
   ]
  },
  {
   "cell_type": "code",
   "execution_count": null,
   "id": "68cbcc0d-97ed-48d9-8eed-3a2bf125f96f",
   "metadata": {},
   "outputs": [],
   "source": [
    "pipe2 = r'\\\\.\\pipe\\videopipe1'\n",
    "video_file_path2 = r'D:\\video_test\\video2.mp4'\n",
    "print(pipe2)\n",
    "print(video_file_path2)"
   ]
  },
  {
   "cell_type": "code",
   "execution_count": null,
   "id": "2e486223-e1fb-4713-aee2-e440d6435546",
   "metadata": {},
   "outputs": [],
   "source": [
    "\n",
    "ffmpeg_processes.append(Popen(r'ffmpeg -y -f rawvideo -vcodec rawvideo -s 1024x1024 pix_fmt bgr8 -r 60 -i {} -c:v h264_nvenc -profile:v high -preset slow -an {}'.format(pipe2, video_file_path2)))"
   ]
  },
  {
   "cell_type": "code",
   "execution_count": null,
   "id": "52e4b3b3-c40f-47a9-9f7f-f4e3c5d69170",
   "metadata": {
    "collapsed": true,
    "jupyter": {
     "outputs_hidden": true
    },
    "tags": []
   },
   "outputs": [],
   "source": [
    "\n",
    "#print(r'ffmpeg -y -f rawvideo -vcodec rawvideo -s 1024x1024 -pix_fmt bgr8 -r 60 -i {} -c:v h264_nvenc -profile:v high -preset slow -an {}'.format(pipe, video_file_path))"
   ]
  },
  {
   "cell_type": "code",
   "execution_count": null,
   "id": "89567fe7",
   "metadata": {},
   "outputs": [],
   "source": []
  }
 ],
 "metadata": {
  "kernelspec": {
   "display_name": "Python 3 (ipykernel)",
   "language": "python",
   "name": "python3"
  },
  "language_info": {
   "codemirror_mode": {
    "name": "ipython",
    "version": 3
   },
   "file_extension": ".py",
   "mimetype": "text/x-python",
   "name": "python",
   "nbconvert_exporter": "python",
   "pygments_lexer": "ipython3",
   "version": "3.9.7"
  }
 },
 "nbformat": 4,
 "nbformat_minor": 5
}
