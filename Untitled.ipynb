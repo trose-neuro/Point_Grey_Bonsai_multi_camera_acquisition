{
 "cells": [
  {
   "cell_type": "code",
   "execution_count": 4,
   "id": "fe6ccc53-75ca-44c7-8088-066f1cc28dc9",
   "metadata": {},
   "outputs": [],
   "source": [
    "# User config setting for Point Grey Bonsai multi camera acquisition.\n",
    "\n",
    "# Experiment config.\n",
    "\n",
    "subjects = {1:'m1',  # {box: subject_ID}\n",
    "            2:'m2',\n",
    "                    }\n",
    "\n",
    "data_dir = 'D:\\\\video_test'  # Directory where data will be saved.\n",
    "\n",
    "# Hardware config.\n",
    "\n",
    "camera_IDs = {1: 0,      # {box: camera_index}\n",
    "              2: 1}\n",
    "\n",
    "# Bonsai path config.\n",
    "\n",
    "bonsai_path = 'C:\\\\Users\\\\mini2p_1_aux\\\\AppData\\\\Local\\\\Bonsai\\\\Bonsai.exe'\n",
    "\n",
    "workflow_path = 'C:\\\\Users\\\\mini2p_1_aux\\\\Documents\\GitHub\\\\Basler_Bonsai_multi_camera_acquisition'\n"
   ]
  },
  {
   "cell_type": "code",
   "execution_count": 8,
   "id": "bb212b53-4a63-4805-be09-07dc0c906472",
   "metadata": {},
   "outputs": [],
   "source": [
    "command = bonsai_path + ' ' +  workflow_path  + ' --start'"
   ]
  },
  {
   "cell_type": "code",
   "execution_count": 9,
   "id": "4a15e962-4c37-4a7f-b9e4-fd734189a984",
   "metadata": {},
   "outputs": [],
   "source": [
    "# Script for acquiring video data from multiple Point Grey cameras using Bonsai to \n",
    "# extract the state of the GPIO pins and pipe video data to FFMPEG for compression.\n",
    "\n",
    "# The script launches Bonsai with a command which loads the workflow and configures\n",
    "# workflow variables to acquire data from the specified boxes.  Once Bonsai has \n",
    "# opened pipes to send data to FFMPEG, the script launches FFMPEG instances which \n",
    "# use the GPU to H264 compress the video data. When the script detects that Bonsai \n",
    "# has been closed it closes the FFMPEG instances.\n",
    "\n",
    "# (c) Thomas Akam 2019-2020.  Licenced under the GNU General Public License v3.\n",
    "\n",
    "import os\n",
    "import time\n",
    "\n",
    "from datetime import datetime\n",
    "from subprocess import Popen\n",
    "\n",
    "#from config import subjects, data_dir, camera_IDs, bonsai_path, workflow_path\n",
    "\n",
    "datetime_str = datetime.now().strftime('%Y-%m-%d-%H%M%S')\n",
    "\n",
    "command = bonsai_path + ' ' +  workflow_path  + ' --start'"
   ]
  },
  {
   "cell_type": "code",
   "execution_count": 10,
   "id": "d8db5bbe-9739-4f8c-832b-d38d1c39fdba",
   "metadata": {},
   "outputs": [
    {
     "data": {
      "text/plain": [
       "'C:\\\\Users\\\\mini2p_1_aux\\\\AppData\\\\Local\\\\Bonsai\\\\Bonsai.exe C:\\\\Users\\\\mini2p_1_aux\\\\Documents\\\\GitHub\\\\Basler_Bonsai_multi_camera_acquisition --start'"
      ]
     },
     "execution_count": 10,
     "metadata": {},
     "output_type": "execute_result"
    }
   ],
   "source": [
    "command"
   ]
  },
  {
   "cell_type": "code",
   "execution_count": null,
   "id": "b0c1c25a-e5ef-4711-93bd-643c01880f56",
   "metadata": {},
   "outputs": [],
   "source": [
    "\n",
    "for box in camera_IDs.keys():\n",
    "    command += ' -p:Box{}.Index={}'.format(box, camera_IDs[box])\n",
    "    if box in subjects.keys(): # Box is being used.\n",
    "        pinstate_file_path = os.path.join(data_dir, subjects[box] + '_pinstate_' + datetime_str + '.csv')\n",
    "        command += ' -p:Box{}.Enable=True'.format(box) + \\\n",
    "                   ' -p:Box{}.PinFileName={}'.format(box, pinstate_file_path)\n",
    "    else: # Box not being used.\n",
    "        command += ' -p:Box{}.Enable=False'.format(box) + \\\n",
    "                   ' -p:Box{}.PinFileName=temp\\\\empty{}.csv'.format(box, box)\n",
    "\n",
    "# Launch Bonsai\n",
    "\n",
    "bonsai_process = Popen(command)\n",
    "\n",
    "# Launch FFMPEG instances once video pipes are open.\n",
    "\n",
    "pipes_open = [False for i in subjects.items()]\n",
    "\n",
    "ffmpeg_processes = []\n",
    "\n",
    "while not all(pipes_open):\n",
    "    for i, (box, subject) in enumerate(subjects.items()):\n",
    "        if not pipes_open[i]:\n",
    "            pipe = r'\\\\.\\pipe\\videopipe' + str(box)\n",
    "            if pipe.split('\\\\')[-1] in os.listdir(r'\\\\.\\pipe'):\n",
    "                pipes_open[i] = True\n",
    "                video_file_path = os.path.join(data_dir, subject + '_' + datetime_str + '.mp4')\n",
    "                ffmpeg_processes.append(Popen(r'ffmpeg -y -f rawvideo -vcodec rawvideo -s 1280x1024 -pix_fmt gray -r 60 -i {} -c:v h264_nvenc -profile:v high -preset slow -an {}'.format(pipe, video_file_path)))\n",
    "    time.sleep(0.1)\n",
    "\n",
    "# Wait untill Bonsai has stopped running.\n",
    "\n",
    "while bonsai_process.poll() == None:\n",
    "    time.sleep(1)\n",
    "\n",
    "print('Closing ffmpeg processes.')\n",
    "\n",
    "for ffmpeg_process in ffmpeg_processes:\n",
    "    ffmpeg_process.terminate()"
   ]
  }
 ],
 "metadata": {
  "kernelspec": {
   "display_name": "Python 3 (ipykernel)",
   "language": "python",
   "name": "python3"
  },
  "language_info": {
   "codemirror_mode": {
    "name": "ipython",
    "version": 3
   },
   "file_extension": ".py",
   "mimetype": "text/x-python",
   "name": "python",
   "nbconvert_exporter": "python",
   "pygments_lexer": "ipython3",
   "version": "3.9.7"
  }
 },
 "nbformat": 4,
 "nbformat_minor": 5
}
