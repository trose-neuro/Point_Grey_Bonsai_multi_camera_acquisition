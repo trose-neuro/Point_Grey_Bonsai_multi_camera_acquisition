{
 "cells": [
  {
   "cell_type": "code",
   "execution_count": null,
   "id": "52e4b3b3-c40f-47a9-9f7f-f4e3c5d69170",
   "metadata": {},
   "outputs": [],
   "source": [
    "\n",
    "print(r'ffmpeg -y -f rawvideo -vcodec rawvideo -s 1280x1024 -pix_fmt gray -r 60 -i {} -c:v h264_nvenc -profile:v high -preset slow -an {}'.format(pipe, video_file_path))"
   ]
  },
  {
   "cell_type": "code",
   "execution_count": null,
   "id": "bb212b53-4a63-4805-be09-07dc0c906472",
   "metadata": {},
   "outputs": [],
   "source": [
    "command = bonsai_path + ' ' +  workflow_path  + ' --start'"
   ]
  },
  {
   "cell_type": "code",
   "execution_count": 14,
   "id": "4a15e962-4c37-4a7f-b9e4-fd734189a984",
   "metadata": {},
   "outputs": [],
   "source": [
    "import os\n",
    "import time\n",
    "\n",
    "from datetime import datetime\n",
    "from subprocess import Popen"
   ]
  },
  {
   "cell_type": "code",
   "execution_count": 15,
   "id": "5f5a9737-5f96-4e55-bd43-624f71f210f1",
   "metadata": {},
   "outputs": [],
   "source": [
    "pipe = '\\\\.\\pipe\\\\videopipe0'\n",
    "video_file_path = 'D:\\\\video_test\\\\video1.mp4'"
   ]
  },
  {
   "cell_type": "code",
   "execution_count": 16,
   "id": "056c626d-3660-4cfa-b379-ccd541650156",
   "metadata": {},
   "outputs": [],
   "source": [
    "ffmpeg_processes = []\n",
    "ffmpeg_processes.append(Popen(r'ffmpeg -y -f rawvideo -vcodec rawvideo -s 1280x1024 -pix_fmt gray -r 60 -i {} -c:v h264_nvenc -profile:v high -preset slow -an {}'.format(pipe, video_file_path)))"
   ]
  },
  {
   "cell_type": "code",
   "execution_count": 17,
   "id": "68cbcc0d-97ed-48d9-8eed-3a2bf125f96f",
   "metadata": {},
   "outputs": [],
   "source": [
    "pipe = '\\\\.\\pipe\\videopipe1'\n",
    "video_file_path = 'D:\\video_test\\video2.mp4'"
   ]
  },
  {
   "cell_type": "code",
   "execution_count": 18,
   "id": "2e486223-e1fb-4713-aee2-e440d6435546",
   "metadata": {},
   "outputs": [],
   "source": [
    "\n",
    "ffmpeg_processes.append(Popen(r'ffmpeg -y -f rawvideo -vcodec rawvideo -s 1280x1024 -pix_fmt gray -r 60 -i {} -c:v h264_nvenc -profile:v high -preset slow -an {}'.format(pipe, video_file_path)))"
   ]
  },
  {
   "cell_type": "code",
   "execution_count": null,
   "id": "8895d9b4-e9cd-4a3b-92f9-86d291381cce",
   "metadata": {},
   "outputs": [],
   "source": []
  },
  {
   "cell_type": "code",
   "execution_count": null,
   "id": "b0c1c25a-e5ef-4711-93bd-643c01880f56",
   "metadata": {},
   "outputs": [],
   "source": [
    "\n",
    "for box in camera_IDs.keys():\n",
    "    command += ' -p:Box{}.Index={}'.format(box, camera_IDs[box])\n",
    "    if box in subjects.keys(): # Box is being used.\n",
    "        pinstate_file_path = os.path.join(data_dir, subjects[box] + '_pinstate_' + datetime_str + '.csv')\n",
    "        command += ' -p:Box{}.Enable=True'.format(box) + \\\n",
    "                   ' -p:Box{}.PinFileName={}'.format(box, pinstate_file_path)\n",
    "    else: # Box not being used.\n",
    "        command += ' -p:Box{}.Enable=False'.format(box) + \\\n",
    "                   ' -p:Box{}.PinFileName=temp\\\\empty{}.csv'.format(box, box)\n",
    "\n",
    "# Launch Bonsai\n",
    "\n",
    "bonsai_process = Popen(command)\n",
    "\n",
    "# Launch FFMPEG instances once video pipes are open.\n",
    "\n",
    "pipes_open = [False for i in subjects.items()]\n",
    "\n",
    "ffmpeg_processes = []\n",
    "\n",
    "while not all(pipes_open):\n",
    "    for i, (box, subject) in enumerate(subjects.items()):\n",
    "        if not pipes_open[i]:\n",
    "            pipe = r'\\\\.\\pipe\\videopipe' + str(box)\n",
    "            if pipe.split('\\\\')[-1] in os.listdir(r'\\\\.\\pipe'):\n",
    "                pipes_open[i] = True\n",
    "                video_file_path = os.path.join(data_dir, subject + '_' + datetime_str + '.mp4')\n",
    "                ffmpeg_processes.append(Popen(r'ffmpeg -y -f rawvideo -vcodec rawvideo -s 1280x1024 -pix_fmt gray -r 60 -i {} -c:v h264_nvenc -profile:v high -preset slow -an {}'.format(pipe, video_file_path)))\n",
    "    time.sleep(0.1)\n",
    "\n",
    "# Wait untill Bonsai has stopped running.\n",
    "\n",
    "while bonsai_process.poll() == None:\n",
    "    time.sleep(1)\n",
    "\n",
    "print('Closing ffmpeg processes.')\n",
    "\n",
    "for ffmpeg_process in ffmpeg_processes:\n",
    "    ffmpeg_process.terminate()"
   ]
  }
 ],
 "metadata": {
  "kernelspec": {
   "display_name": "Python 3 (ipykernel)",
   "language": "python",
   "name": "python3"
  },
  "language_info": {
   "codemirror_mode": {
    "name": "ipython",
    "version": 3
   },
   "file_extension": ".py",
   "mimetype": "text/x-python",
   "name": "python",
   "nbconvert_exporter": "python",
   "pygments_lexer": "ipython3",
   "version": "3.9.7"
  }
 },
 "nbformat": 4,
 "nbformat_minor": 5
}
